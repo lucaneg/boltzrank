{
 "cells": [
  {
   "cell_type": "markdown",
   "metadata": {
    "toc": true
   },
   "source": [
    "<h1>Table of Contents<span class=\"tocSkip\"></span></h1>\n",
    "<div class=\"toc\"><ul class=\"toc-item\"></ul></div>"
   ]
  },
  {
   "cell_type": "code",
   "execution_count": 1,
   "metadata": {},
   "outputs": [],
   "source": [
    "# import common libraries\n",
    "%load_ext autoreload\n",
    "%autoreload 2\n",
    "\n",
    "#%matplotlib notebook\n",
    "%matplotlib inline\n",
    "\n",
    "# this is to install lightgbm\n",
    "#import sys\n",
    "#!{sys.executable} -m pip install lightgbm\n",
    "\n",
    "import os\n",
    "import os.path\n",
    "import numpy as np\n",
    "import lightgbm"
   ]
  },
  {
   "cell_type": "code",
   "execution_count": 2,
   "metadata": {},
   "outputs": [],
   "source": [
    "# A more reasonable setting: train/valid/test\n",
    "\n",
    "import itertools\n",
    "from sklearn.datasets import load_svmlight_file\n",
    "# see http://scikit-learn.org/stable/modules/generated/sklearn.datasets.load_svmlight_file.html\n",
    "\n",
    "\n",
    "train_file = \"C:/opt/kiis-training/MSLR-WEB10K/Fold1/train.txt\"\n",
    "valid_file = \"C:/opt/kiis-training/MSLR-WEB10K/Fold1/vali.txt\"\n",
    "test_file  = \"C:/opt/kiis-training/MSLR-WEB10K/Fold1/test.txt\"\n",
    "\n",
    "# train\n",
    "raw_data = load_svmlight_file(train_file, query_id=True)\n",
    "query_lens = [ sum( 1 for _ in group ) for key, group in itertools.groupby( raw_data[2] )  ]\n",
    "train_lgb = lightgbm.Dataset(data=raw_data[0], label=raw_data[1], group=query_lens)\n",
    "\n",
    "# valid\n",
    "raw_data = load_svmlight_file(valid_file, query_id=True)\n",
    "query_lens = [ sum( 1 for _ in group ) for key, group in itertools.groupby( raw_data[2] )  ]\n",
    "valid_lgb = lightgbm.Dataset(data=raw_data[0], label=raw_data[1], group=query_lens)\n",
    "\n",
    "# test\n",
    "raw_data = load_svmlight_file(test_file, query_id=True)\n",
    "query_lens = [ sum( 1 for _ in group ) for key, group in itertools.groupby( raw_data[2] )  ]\n",
    "test_lgb = lightgbm.Dataset(data=raw_data[0], label=raw_data[1], group=query_lens)\n"
   ]
  },
  {
   "cell_type": "code",
   "execution_count": 3,
   "metadata": {},
   "outputs": [],
   "source": [
    "# self-defined eval metric\n",
    "# f(preds: array, train_data: Dataset) -> name: string, value: array, is_higher_better: bool\n",
    "def mse_eval(preds, train_data):\n",
    "    labels = train_data.get_label()\n",
    "    \n",
    "    avg_mse = 0.5 * np.mean( (labels-preds)**2 )\n",
    "    \n",
    "    return 'Custom-MSE', avg_mse, False\n",
    "\n",
    "# self-defined objective function\n",
    "# f(preds: array, train_data: Dataset) -> grad: array, hess: array\n",
    "def mse_grads(preds, train_data):\n",
    "    labels = train_data.get_label()\n",
    "    #grad = labels - preds # this is the neg grad !!!\n",
    "    grad = preds - labels\n",
    "    hess = np.ones_like(grad)\n",
    "    return grad, hess"
   ]
  },
  {
   "cell_type": "code",
   "execution_count": 4,
   "metadata": {},
   "outputs": [
    {
     "name": "stdout",
     "output_type": "stream",
     "text": [
      "[1]\ttrain's Custom-MSE: 0.509403\tvalid's Custom-MSE: 0.523649\ttest's Custom-MSE: 0.526099\n",
      "[2]\ttrain's Custom-MSE: 0.468913\tvalid's Custom-MSE: 0.482435\ttest's Custom-MSE: 0.484615\n",
      "[3]\ttrain's Custom-MSE: 0.436149\tvalid's Custom-MSE: 0.449052\ttest's Custom-MSE: 0.451116\n",
      "[4]\ttrain's Custom-MSE: 0.409289\tvalid's Custom-MSE: 0.421708\ttest's Custom-MSE: 0.42365\n",
      "[5]\ttrain's Custom-MSE: 0.38743\tvalid's Custom-MSE: 0.399419\ttest's Custom-MSE: 0.401174\n",
      "[6]\ttrain's Custom-MSE: 0.369535\tvalid's Custom-MSE: 0.381075\ttest's Custom-MSE: 0.382687\n",
      "[7]\ttrain's Custom-MSE: 0.354743\tvalid's Custom-MSE: 0.365983\ttest's Custom-MSE: 0.36744\n",
      "[8]\ttrain's Custom-MSE: 0.34275\tvalid's Custom-MSE: 0.353703\ttest's Custom-MSE: 0.355038\n",
      "[9]\ttrain's Custom-MSE: 0.33282\tvalid's Custom-MSE: 0.343475\ttest's Custom-MSE: 0.344757\n",
      "[10]\ttrain's Custom-MSE: 0.324612\tvalid's Custom-MSE: 0.335042\ttest's Custom-MSE: 0.336268\n",
      "[11]\ttrain's Custom-MSE: 0.317843\tvalid's Custom-MSE: 0.328103\ttest's Custom-MSE: 0.329287\n",
      "[12]\ttrain's Custom-MSE: 0.312263\tvalid's Custom-MSE: 0.32236\ttest's Custom-MSE: 0.323469\n",
      "[13]\ttrain's Custom-MSE: 0.307706\tvalid's Custom-MSE: 0.317697\ttest's Custom-MSE: 0.318732\n",
      "[14]\ttrain's Custom-MSE: 0.30389\tvalid's Custom-MSE: 0.313727\ttest's Custom-MSE: 0.314765\n",
      "[15]\ttrain's Custom-MSE: 0.300585\tvalid's Custom-MSE: 0.310311\ttest's Custom-MSE: 0.311312\n",
      "[16]\ttrain's Custom-MSE: 0.297821\tvalid's Custom-MSE: 0.307417\ttest's Custom-MSE: 0.308406\n",
      "[17]\ttrain's Custom-MSE: 0.295474\tvalid's Custom-MSE: 0.30502\ttest's Custom-MSE: 0.305912\n",
      "[18]\ttrain's Custom-MSE: 0.293469\tvalid's Custom-MSE: 0.302914\ttest's Custom-MSE: 0.303798\n",
      "[19]\ttrain's Custom-MSE: 0.291767\tvalid's Custom-MSE: 0.301145\ttest's Custom-MSE: 0.302026\n",
      "[20]\ttrain's Custom-MSE: 0.290334\tvalid's Custom-MSE: 0.299707\ttest's Custom-MSE: 0.300482\n",
      "[21]\ttrain's Custom-MSE: 0.289065\tvalid's Custom-MSE: 0.298429\ttest's Custom-MSE: 0.299165\n",
      "[22]\ttrain's Custom-MSE: 0.287889\tvalid's Custom-MSE: 0.297189\ttest's Custom-MSE: 0.297948\n",
      "[23]\ttrain's Custom-MSE: 0.286896\tvalid's Custom-MSE: 0.296162\ttest's Custom-MSE: 0.296924\n",
      "[24]\ttrain's Custom-MSE: 0.286035\tvalid's Custom-MSE: 0.295349\ttest's Custom-MSE: 0.296049\n",
      "[25]\ttrain's Custom-MSE: 0.28525\tvalid's Custom-MSE: 0.294535\ttest's Custom-MSE: 0.295217\n",
      "[26]\ttrain's Custom-MSE: 0.284552\tvalid's Custom-MSE: 0.293824\ttest's Custom-MSE: 0.294496\n",
      "[27]\ttrain's Custom-MSE: 0.283941\tvalid's Custom-MSE: 0.293158\ttest's Custom-MSE: 0.293873\n",
      "[28]\ttrain's Custom-MSE: 0.283357\tvalid's Custom-MSE: 0.292554\ttest's Custom-MSE: 0.293296\n",
      "[29]\ttrain's Custom-MSE: 0.282855\tvalid's Custom-MSE: 0.292078\ttest's Custom-MSE: 0.292806\n",
      "[30]\ttrain's Custom-MSE: 0.282394\tvalid's Custom-MSE: 0.291686\ttest's Custom-MSE: 0.292361\n",
      "[31]\ttrain's Custom-MSE: 0.281962\tvalid's Custom-MSE: 0.291248\ttest's Custom-MSE: 0.291922\n",
      "[32]\ttrain's Custom-MSE: 0.281535\tvalid's Custom-MSE: 0.290833\ttest's Custom-MSE: 0.291524\n",
      "[33]\ttrain's Custom-MSE: 0.281116\tvalid's Custom-MSE: 0.290319\ttest's Custom-MSE: 0.291119\n",
      "[34]\ttrain's Custom-MSE: 0.280733\tvalid's Custom-MSE: 0.290004\ttest's Custom-MSE: 0.29076\n",
      "[35]\ttrain's Custom-MSE: 0.280367\tvalid's Custom-MSE: 0.289599\ttest's Custom-MSE: 0.290435\n",
      "[36]\ttrain's Custom-MSE: 0.28009\tvalid's Custom-MSE: 0.289319\ttest's Custom-MSE: 0.29015\n",
      "[37]\ttrain's Custom-MSE: 0.279823\tvalid's Custom-MSE: 0.289074\ttest's Custom-MSE: 0.289923\n",
      "[38]\ttrain's Custom-MSE: 0.279529\tvalid's Custom-MSE: 0.288777\ttest's Custom-MSE: 0.28965\n",
      "[39]\ttrain's Custom-MSE: 0.279294\tvalid's Custom-MSE: 0.28858\ttest's Custom-MSE: 0.289422\n",
      "[40]\ttrain's Custom-MSE: 0.279\tvalid's Custom-MSE: 0.288329\ttest's Custom-MSE: 0.289155\n",
      "[41]\ttrain's Custom-MSE: 0.278743\tvalid's Custom-MSE: 0.288055\ttest's Custom-MSE: 0.288912\n",
      "[42]\ttrain's Custom-MSE: 0.278506\tvalid's Custom-MSE: 0.287743\ttest's Custom-MSE: 0.288684\n",
      "[43]\ttrain's Custom-MSE: 0.278284\tvalid's Custom-MSE: 0.287466\ttest's Custom-MSE: 0.288475\n",
      "[44]\ttrain's Custom-MSE: 0.278019\tvalid's Custom-MSE: 0.287256\ttest's Custom-MSE: 0.288312\n",
      "[45]\ttrain's Custom-MSE: 0.277838\tvalid's Custom-MSE: 0.28711\ttest's Custom-MSE: 0.288181\n",
      "[46]\ttrain's Custom-MSE: 0.277655\tvalid's Custom-MSE: 0.28696\ttest's Custom-MSE: 0.288022\n",
      "[47]\ttrain's Custom-MSE: 0.277452\tvalid's Custom-MSE: 0.286801\ttest's Custom-MSE: 0.287906\n",
      "[48]\ttrain's Custom-MSE: 0.277267\tvalid's Custom-MSE: 0.286645\ttest's Custom-MSE: 0.287775\n",
      "[49]\ttrain's Custom-MSE: 0.277087\tvalid's Custom-MSE: 0.286501\ttest's Custom-MSE: 0.287627\n",
      "[50]\ttrain's Custom-MSE: 0.276912\tvalid's Custom-MSE: 0.28637\ttest's Custom-MSE: 0.287461\n",
      "[51]\ttrain's Custom-MSE: 0.27674\tvalid's Custom-MSE: 0.286186\ttest's Custom-MSE: 0.28731\n",
      "[52]\ttrain's Custom-MSE: 0.276547\tvalid's Custom-MSE: 0.286061\ttest's Custom-MSE: 0.287153\n",
      "[53]\ttrain's Custom-MSE: 0.276383\tvalid's Custom-MSE: 0.285864\ttest's Custom-MSE: 0.287045\n",
      "[54]\ttrain's Custom-MSE: 0.27623\tvalid's Custom-MSE: 0.285751\ttest's Custom-MSE: 0.287003\n",
      "[55]\ttrain's Custom-MSE: 0.276077\tvalid's Custom-MSE: 0.285628\ttest's Custom-MSE: 0.286893\n",
      "[56]\ttrain's Custom-MSE: 0.275941\tvalid's Custom-MSE: 0.285494\ttest's Custom-MSE: 0.286791\n",
      "[57]\ttrain's Custom-MSE: 0.27582\tvalid's Custom-MSE: 0.285416\ttest's Custom-MSE: 0.286713\n",
      "[58]\ttrain's Custom-MSE: 0.275651\tvalid's Custom-MSE: 0.285309\ttest's Custom-MSE: 0.286622\n",
      "[59]\ttrain's Custom-MSE: 0.275505\tvalid's Custom-MSE: 0.28518\ttest's Custom-MSE: 0.286518\n",
      "[60]\ttrain's Custom-MSE: 0.275376\tvalid's Custom-MSE: 0.285136\ttest's Custom-MSE: 0.286459\n",
      "[61]\ttrain's Custom-MSE: 0.275253\tvalid's Custom-MSE: 0.285045\ttest's Custom-MSE: 0.286388\n",
      "[62]\ttrain's Custom-MSE: 0.275148\tvalid's Custom-MSE: 0.284934\ttest's Custom-MSE: 0.286298\n",
      "[63]\ttrain's Custom-MSE: 0.275007\tvalid's Custom-MSE: 0.284838\ttest's Custom-MSE: 0.286226\n",
      "[64]\ttrain's Custom-MSE: 0.274882\tvalid's Custom-MSE: 0.284739\ttest's Custom-MSE: 0.28614\n",
      "[65]\ttrain's Custom-MSE: 0.274765\tvalid's Custom-MSE: 0.284639\ttest's Custom-MSE: 0.286051\n",
      "[66]\ttrain's Custom-MSE: 0.274634\tvalid's Custom-MSE: 0.284528\ttest's Custom-MSE: 0.285913\n",
      "[67]\ttrain's Custom-MSE: 0.274504\tvalid's Custom-MSE: 0.284418\ttest's Custom-MSE: 0.285847\n",
      "[68]\ttrain's Custom-MSE: 0.274391\tvalid's Custom-MSE: 0.28432\ttest's Custom-MSE: 0.285751\n",
      "[69]\ttrain's Custom-MSE: 0.274287\tvalid's Custom-MSE: 0.284235\ttest's Custom-MSE: 0.285682\n",
      "[70]\ttrain's Custom-MSE: 0.274188\tvalid's Custom-MSE: 0.284176\ttest's Custom-MSE: 0.285635\n",
      "[71]\ttrain's Custom-MSE: 0.274107\tvalid's Custom-MSE: 0.284113\ttest's Custom-MSE: 0.285575\n",
      "[72]\ttrain's Custom-MSE: 0.273984\tvalid's Custom-MSE: 0.284007\ttest's Custom-MSE: 0.285487\n",
      "[73]\ttrain's Custom-MSE: 0.273884\tvalid's Custom-MSE: 0.28395\ttest's Custom-MSE: 0.285396\n",
      "[74]\ttrain's Custom-MSE: 0.273778\tvalid's Custom-MSE: 0.283881\ttest's Custom-MSE: 0.285338\n",
      "[75]\ttrain's Custom-MSE: 0.273673\tvalid's Custom-MSE: 0.283787\ttest's Custom-MSE: 0.285274\n",
      "[76]\ttrain's Custom-MSE: 0.273579\tvalid's Custom-MSE: 0.283719\ttest's Custom-MSE: 0.285201\n",
      "[77]\ttrain's Custom-MSE: 0.273442\tvalid's Custom-MSE: 0.283685\ttest's Custom-MSE: 0.285104\n",
      "[78]\ttrain's Custom-MSE: 0.273351\tvalid's Custom-MSE: 0.283593\ttest's Custom-MSE: 0.285031\n",
      "[79]\ttrain's Custom-MSE: 0.273244\tvalid's Custom-MSE: 0.283545\ttest's Custom-MSE: 0.284987\n",
      "[80]\ttrain's Custom-MSE: 0.273134\tvalid's Custom-MSE: 0.283493\ttest's Custom-MSE: 0.284916\n",
      "[81]\ttrain's Custom-MSE: 0.273022\tvalid's Custom-MSE: 0.283433\ttest's Custom-MSE: 0.284861\n",
      "[82]\ttrain's Custom-MSE: 0.272928\tvalid's Custom-MSE: 0.283406\ttest's Custom-MSE: 0.284855\n",
      "[83]\ttrain's Custom-MSE: 0.272847\tvalid's Custom-MSE: 0.283342\ttest's Custom-MSE: 0.28482\n",
      "[84]\ttrain's Custom-MSE: 0.272753\tvalid's Custom-MSE: 0.283276\ttest's Custom-MSE: 0.284754\n",
      "[85]\ttrain's Custom-MSE: 0.272652\tvalid's Custom-MSE: 0.283218\ttest's Custom-MSE: 0.284724\n",
      "[86]\ttrain's Custom-MSE: 0.27258\tvalid's Custom-MSE: 0.283181\ttest's Custom-MSE: 0.284698\n",
      "[87]\ttrain's Custom-MSE: 0.272484\tvalid's Custom-MSE: 0.283088\ttest's Custom-MSE: 0.284625\n",
      "[88]\ttrain's Custom-MSE: 0.272377\tvalid's Custom-MSE: 0.283027\ttest's Custom-MSE: 0.284569\n",
      "[89]\ttrain's Custom-MSE: 0.272278\tvalid's Custom-MSE: 0.282979\ttest's Custom-MSE: 0.284545\n",
      "[90]\ttrain's Custom-MSE: 0.272188\tvalid's Custom-MSE: 0.282925\ttest's Custom-MSE: 0.284494\n",
      "[91]\ttrain's Custom-MSE: 0.2721\tvalid's Custom-MSE: 0.282877\ttest's Custom-MSE: 0.284436\n"
     ]
    },
    {
     "name": "stdout",
     "output_type": "stream",
     "text": [
      "[92]\ttrain's Custom-MSE: 0.271995\tvalid's Custom-MSE: 0.282809\ttest's Custom-MSE: 0.284356\n",
      "[93]\ttrain's Custom-MSE: 0.271911\tvalid's Custom-MSE: 0.282752\ttest's Custom-MSE: 0.284303\n",
      "[94]\ttrain's Custom-MSE: 0.271851\tvalid's Custom-MSE: 0.282697\ttest's Custom-MSE: 0.284259\n",
      "[95]\ttrain's Custom-MSE: 0.271775\tvalid's Custom-MSE: 0.282643\ttest's Custom-MSE: 0.284233\n",
      "[96]\ttrain's Custom-MSE: 0.271702\tvalid's Custom-MSE: 0.282606\ttest's Custom-MSE: 0.284172\n",
      "[97]\ttrain's Custom-MSE: 0.271618\tvalid's Custom-MSE: 0.282552\ttest's Custom-MSE: 0.284134\n",
      "[98]\ttrain's Custom-MSE: 0.271496\tvalid's Custom-MSE: 0.282491\ttest's Custom-MSE: 0.284065\n",
      "[99]\ttrain's Custom-MSE: 0.271386\tvalid's Custom-MSE: 0.282466\ttest's Custom-MSE: 0.284053\n",
      "[100]\ttrain's Custom-MSE: 0.271326\tvalid's Custom-MSE: 0.282435\ttest's Custom-MSE: 0.284036\n"
     ]
    },
    {
     "data": {
      "text/plain": [
       "Text(0.5, 1.0, 'Model Error')"
      ]
     },
     "execution_count": 4,
     "metadata": {},
     "output_type": "execute_result"
    },
    {
     "data": {
      "image/png": "[encoded data removed]",
      "text/plain": [
       "<Figure size 648x432 with 1 Axes>"
      ]
     },
     "metadata": {
      "needs_background": "light"
     },
     "output_type": "display_data"
    }
   ],
   "source": [
    "params = {\n",
    "#    'objective':'lambdarank', # what to optimize during training\n",
    "#    'max_position': 10,      # threshold used in optimizing lamdarank (NDCG)\n",
    "    'learning_rate': 0.1,\n",
    "    'num_leaves': 16,\n",
    "    'min_data_in_leaf': 5,\n",
    "    'metric': ['None'], #['ndcg'],       # what to use/print for evaluation\n",
    "#    'ndcg_eval_at': 10\n",
    "# try printing ndcg and testing\n",
    "}    \n",
    "\n",
    "lgbm_info = {}\n",
    "\n",
    "lgbm_model = lightgbm.train(params, train_lgb, num_boost_round=100,\n",
    "                            feval = mse_eval,\n",
    "                            fobj  = mse_grads,\n",
    "                            valid_sets   = [train_lgb, valid_lgb, test_lgb], \n",
    "                            valid_names  = [\"train\", \"valid\", \"test\"],\n",
    "                            evals_result = lgbm_info,\n",
    "                            verbose_eval = 1)\n",
    "\n",
    "\n",
    "#lgbm_info\n",
    "\n",
    "import matplotlib.pyplot as plt\n",
    "\n",
    "plt.figure(figsize=(9,6), tight_layout=True)\n",
    "\n",
    "plt.plot(lgbm_info['train']['Custom-MSE'], label='training')\n",
    "plt.plot(lgbm_info['valid']['Custom-MSE'], label='validation')\n",
    "plt.plot(lgbm_info['test']['Custom-MSE'], label='test')\n",
    "\n",
    "plt.grid()\n",
    "plt.legend()\n",
    "plt.xlabel(\"# Trees\")\n",
    "plt.ylabel(\"Custom-MSE\")\n",
    "plt.title(\"Model Error\")"
   ]
  }
 ],
 "metadata": {
  "kernelspec": {
   "display_name": "Python 3",
   "language": "python",
   "name": "python3"
  },
  "language_info": {
   "codemirror_mode": {
    "name": "ipython",
    "version": 3
   },
   "file_extension": ".py",
   "mimetype": "text/x-python",
   "name": "python",
   "nbconvert_exporter": "python",
   "pygments_lexer": "ipython3",
   "version": "3.7.6"
  },
  "latex_envs": {
   "LaTeX_envs_menu_present": true,
   "autoclose": false,
   "autocomplete": true,
   "bibliofile": "biblio.bib",
   "cite_by": "apalike",
   "current_citInitial": 1,
   "eqLabelWithNumbers": true,
   "eqNumInitial": 1,
   "hotkeys": {
    "equation": "Ctrl-E",
    "itemize": "Ctrl-I"
   },
   "labels_anchors": false,
   "latex_user_defs": false,
   "report_style_numbering": false,
   "user_envs_cfg": false
  },
  "toc": {
   "base_numbering": 1,
   "nav_menu": {},
   "number_sections": true,
   "sideBar": true,
   "skip_h1_title": true,
   "title_cell": "Table of Contents",
   "title_sidebar": "Contents",
   "toc_cell": true,
   "toc_position": {},
   "toc_section_display": true,
   "toc_window_display": true
  }
 },
 "nbformat": 4,
 "nbformat_minor": 2
}
